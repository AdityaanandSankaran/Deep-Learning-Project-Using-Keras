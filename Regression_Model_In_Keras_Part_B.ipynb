{
 "cells": [
  {
   "cell_type": "markdown",
   "metadata": {},
   "source": [
    "### Regression Model In Keras Part B\n"
   ]
  },
  {
   "cell_type": "markdown",
   "metadata": {},
   "source": [
    "First, the appropriate libraries are imported, i.e. Pandas and NumPy."
   ]
  },
  {
   "cell_type": "code",
   "execution_count": 1,
   "metadata": {},
   "outputs": [],
   "source": [
    "import pandas as pd #This code imports pandas libraries\n",
    "import numpy as np #This code imports NumPy libraries"
   ]
  },
  {
   "cell_type": "markdown",
   "metadata": {},
   "source": [
    "Next, we load the csv file using the pandas library into a dataframe."
   ]
  },
  {
   "cell_type": "code",
   "execution_count": 2,
   "metadata": {},
   "outputs": [
    {
     "data": {
      "text/html": [
       "<div>\n",
       "<style scoped>\n",
       "    .dataframe tbody tr th:only-of-type {\n",
       "        vertical-align: middle;\n",
       "    }\n",
       "\n",
       "    .dataframe tbody tr th {\n",
       "        vertical-align: top;\n",
       "    }\n",
       "\n",
       "    .dataframe thead th {\n",
       "        text-align: right;\n",
       "    }\n",
       "</style>\n",
       "<table border=\"1\" class=\"dataframe\">\n",
       "  <thead>\n",
       "    <tr style=\"text-align: right;\">\n",
       "      <th></th>\n",
       "      <th>Cement</th>\n",
       "      <th>Blast Furnace Slag</th>\n",
       "      <th>Fly Ash</th>\n",
       "      <th>Water</th>\n",
       "      <th>Superplasticizer</th>\n",
       "      <th>Coarse Aggregate</th>\n",
       "      <th>Fine Aggregate</th>\n",
       "      <th>Age</th>\n",
       "      <th>Strength</th>\n",
       "    </tr>\n",
       "  </thead>\n",
       "  <tbody>\n",
       "    <tr>\n",
       "      <th>0</th>\n",
       "      <td>540.0</td>\n",
       "      <td>0.0</td>\n",
       "      <td>0.0</td>\n",
       "      <td>162.0</td>\n",
       "      <td>2.5</td>\n",
       "      <td>1040.0</td>\n",
       "      <td>676.0</td>\n",
       "      <td>28</td>\n",
       "      <td>79.99</td>\n",
       "    </tr>\n",
       "    <tr>\n",
       "      <th>1</th>\n",
       "      <td>540.0</td>\n",
       "      <td>0.0</td>\n",
       "      <td>0.0</td>\n",
       "      <td>162.0</td>\n",
       "      <td>2.5</td>\n",
       "      <td>1055.0</td>\n",
       "      <td>676.0</td>\n",
       "      <td>28</td>\n",
       "      <td>61.89</td>\n",
       "    </tr>\n",
       "    <tr>\n",
       "      <th>2</th>\n",
       "      <td>332.5</td>\n",
       "      <td>142.5</td>\n",
       "      <td>0.0</td>\n",
       "      <td>228.0</td>\n",
       "      <td>0.0</td>\n",
       "      <td>932.0</td>\n",
       "      <td>594.0</td>\n",
       "      <td>270</td>\n",
       "      <td>40.27</td>\n",
       "    </tr>\n",
       "    <tr>\n",
       "      <th>3</th>\n",
       "      <td>332.5</td>\n",
       "      <td>142.5</td>\n",
       "      <td>0.0</td>\n",
       "      <td>228.0</td>\n",
       "      <td>0.0</td>\n",
       "      <td>932.0</td>\n",
       "      <td>594.0</td>\n",
       "      <td>365</td>\n",
       "      <td>41.05</td>\n",
       "    </tr>\n",
       "    <tr>\n",
       "      <th>4</th>\n",
       "      <td>198.6</td>\n",
       "      <td>132.4</td>\n",
       "      <td>0.0</td>\n",
       "      <td>192.0</td>\n",
       "      <td>0.0</td>\n",
       "      <td>978.4</td>\n",
       "      <td>825.5</td>\n",
       "      <td>360</td>\n",
       "      <td>44.30</td>\n",
       "    </tr>\n",
       "  </tbody>\n",
       "</table>\n",
       "</div>"
      ],
      "text/plain": [
       "   Cement  Blast Furnace Slag  Fly Ash  Water  Superplasticizer  \\\n",
       "0   540.0                 0.0      0.0  162.0               2.5   \n",
       "1   540.0                 0.0      0.0  162.0               2.5   \n",
       "2   332.5               142.5      0.0  228.0               0.0   \n",
       "3   332.5               142.5      0.0  228.0               0.0   \n",
       "4   198.6               132.4      0.0  192.0               0.0   \n",
       "\n",
       "   Coarse Aggregate  Fine Aggregate  Age  Strength  \n",
       "0            1040.0           676.0   28     79.99  \n",
       "1            1055.0           676.0   28     61.89  \n",
       "2             932.0           594.0  270     40.27  \n",
       "3             932.0           594.0  365     41.05  \n",
       "4             978.4           825.5  360     44.30  "
      ]
     },
     "execution_count": 2,
     "metadata": {},
     "output_type": "execute_result"
    }
   ],
   "source": [
    "c_data = pd.read_csv('https://cocl.us/concrete_data') #This code reads the data from the csv file into a pandas dataframe\n",
    "c_data.head() #We then display the first 5 rows of data"
   ]
  },
  {
   "cell_type": "markdown",
   "metadata": {},
   "source": [
    "We then check the shape of the dataframe."
   ]
  },
  {
   "cell_type": "code",
   "execution_count": 3,
   "metadata": {},
   "outputs": [
    {
     "data": {
      "text/plain": [
       "(1030, 9)"
      ]
     },
     "execution_count": 3,
     "metadata": {},
     "output_type": "execute_result"
    }
   ],
   "source": [
    "c_data.shape"
   ]
  },
  {
   "cell_type": "markdown",
   "metadata": {},
   "source": [
    "\n",
    "we determine if the data is erroneous."
   ]
  },
  {
   "cell_type": "code",
   "execution_count": 4,
   "metadata": {},
   "outputs": [
    {
     "data": {
      "text/html": [
       "<div>\n",
       "<style scoped>\n",
       "    .dataframe tbody tr th:only-of-type {\n",
       "        vertical-align: middle;\n",
       "    }\n",
       "\n",
       "    .dataframe tbody tr th {\n",
       "        vertical-align: top;\n",
       "    }\n",
       "\n",
       "    .dataframe thead th {\n",
       "        text-align: right;\n",
       "    }\n",
       "</style>\n",
       "<table border=\"1\" class=\"dataframe\">\n",
       "  <thead>\n",
       "    <tr style=\"text-align: right;\">\n",
       "      <th></th>\n",
       "      <th>Cement</th>\n",
       "      <th>Blast Furnace Slag</th>\n",
       "      <th>Fly Ash</th>\n",
       "      <th>Water</th>\n",
       "      <th>Superplasticizer</th>\n",
       "      <th>Coarse Aggregate</th>\n",
       "      <th>Fine Aggregate</th>\n",
       "      <th>Age</th>\n",
       "      <th>Strength</th>\n",
       "    </tr>\n",
       "  </thead>\n",
       "  <tbody>\n",
       "    <tr>\n",
       "      <th>count</th>\n",
       "      <td>1030.000000</td>\n",
       "      <td>1030.000000</td>\n",
       "      <td>1030.000000</td>\n",
       "      <td>1030.000000</td>\n",
       "      <td>1030.000000</td>\n",
       "      <td>1030.000000</td>\n",
       "      <td>1030.000000</td>\n",
       "      <td>1030.000000</td>\n",
       "      <td>1030.000000</td>\n",
       "    </tr>\n",
       "    <tr>\n",
       "      <th>mean</th>\n",
       "      <td>281.167864</td>\n",
       "      <td>73.895825</td>\n",
       "      <td>54.188350</td>\n",
       "      <td>181.567282</td>\n",
       "      <td>6.204660</td>\n",
       "      <td>972.918932</td>\n",
       "      <td>773.580485</td>\n",
       "      <td>45.662136</td>\n",
       "      <td>35.817961</td>\n",
       "    </tr>\n",
       "    <tr>\n",
       "      <th>std</th>\n",
       "      <td>104.506364</td>\n",
       "      <td>86.279342</td>\n",
       "      <td>63.997004</td>\n",
       "      <td>21.354219</td>\n",
       "      <td>5.973841</td>\n",
       "      <td>77.753954</td>\n",
       "      <td>80.175980</td>\n",
       "      <td>63.169912</td>\n",
       "      <td>16.705742</td>\n",
       "    </tr>\n",
       "    <tr>\n",
       "      <th>min</th>\n",
       "      <td>102.000000</td>\n",
       "      <td>0.000000</td>\n",
       "      <td>0.000000</td>\n",
       "      <td>121.800000</td>\n",
       "      <td>0.000000</td>\n",
       "      <td>801.000000</td>\n",
       "      <td>594.000000</td>\n",
       "      <td>1.000000</td>\n",
       "      <td>2.330000</td>\n",
       "    </tr>\n",
       "    <tr>\n",
       "      <th>25%</th>\n",
       "      <td>192.375000</td>\n",
       "      <td>0.000000</td>\n",
       "      <td>0.000000</td>\n",
       "      <td>164.900000</td>\n",
       "      <td>0.000000</td>\n",
       "      <td>932.000000</td>\n",
       "      <td>730.950000</td>\n",
       "      <td>7.000000</td>\n",
       "      <td>23.710000</td>\n",
       "    </tr>\n",
       "    <tr>\n",
       "      <th>50%</th>\n",
       "      <td>272.900000</td>\n",
       "      <td>22.000000</td>\n",
       "      <td>0.000000</td>\n",
       "      <td>185.000000</td>\n",
       "      <td>6.400000</td>\n",
       "      <td>968.000000</td>\n",
       "      <td>779.500000</td>\n",
       "      <td>28.000000</td>\n",
       "      <td>34.445000</td>\n",
       "    </tr>\n",
       "    <tr>\n",
       "      <th>75%</th>\n",
       "      <td>350.000000</td>\n",
       "      <td>142.950000</td>\n",
       "      <td>118.300000</td>\n",
       "      <td>192.000000</td>\n",
       "      <td>10.200000</td>\n",
       "      <td>1029.400000</td>\n",
       "      <td>824.000000</td>\n",
       "      <td>56.000000</td>\n",
       "      <td>46.135000</td>\n",
       "    </tr>\n",
       "    <tr>\n",
       "      <th>max</th>\n",
       "      <td>540.000000</td>\n",
       "      <td>359.400000</td>\n",
       "      <td>200.100000</td>\n",
       "      <td>247.000000</td>\n",
       "      <td>32.200000</td>\n",
       "      <td>1145.000000</td>\n",
       "      <td>992.600000</td>\n",
       "      <td>365.000000</td>\n",
       "      <td>82.600000</td>\n",
       "    </tr>\n",
       "  </tbody>\n",
       "</table>\n",
       "</div>"
      ],
      "text/plain": [
       "            Cement  Blast Furnace Slag      Fly Ash        Water  \\\n",
       "count  1030.000000         1030.000000  1030.000000  1030.000000   \n",
       "mean    281.167864           73.895825    54.188350   181.567282   \n",
       "std     104.506364           86.279342    63.997004    21.354219   \n",
       "min     102.000000            0.000000     0.000000   121.800000   \n",
       "25%     192.375000            0.000000     0.000000   164.900000   \n",
       "50%     272.900000           22.000000     0.000000   185.000000   \n",
       "75%     350.000000          142.950000   118.300000   192.000000   \n",
       "max     540.000000          359.400000   200.100000   247.000000   \n",
       "\n",
       "       Superplasticizer  Coarse Aggregate  Fine Aggregate          Age  \\\n",
       "count       1030.000000       1030.000000     1030.000000  1030.000000   \n",
       "mean           6.204660        972.918932      773.580485    45.662136   \n",
       "std            5.973841         77.753954       80.175980    63.169912   \n",
       "min            0.000000        801.000000      594.000000     1.000000   \n",
       "25%            0.000000        932.000000      730.950000     7.000000   \n",
       "50%            6.400000        968.000000      779.500000    28.000000   \n",
       "75%           10.200000       1029.400000      824.000000    56.000000   \n",
       "max           32.200000       1145.000000      992.600000   365.000000   \n",
       "\n",
       "          Strength  \n",
       "count  1030.000000  \n",
       "mean     35.817961  \n",
       "std      16.705742  \n",
       "min       2.330000  \n",
       "25%      23.710000  \n",
       "50%      34.445000  \n",
       "75%      46.135000  \n",
       "max      82.600000  "
      ]
     },
     "execution_count": 4,
     "metadata": {},
     "output_type": "execute_result"
    }
   ],
   "source": [
    "c_data.describe()"
   ]
  },
  {
   "cell_type": "code",
   "execution_count": 5,
   "metadata": {},
   "outputs": [
    {
     "data": {
      "text/plain": [
       "Cement                0\n",
       "Blast Furnace Slag    0\n",
       "Fly Ash               0\n",
       "Water                 0\n",
       "Superplasticizer      0\n",
       "Coarse Aggregate      0\n",
       "Fine Aggregate        0\n",
       "Age                   0\n",
       "Strength              0\n",
       "dtype: int64"
      ]
     },
     "execution_count": 5,
     "metadata": {},
     "output_type": "execute_result"
    }
   ],
   "source": [
    "c_data.isnull().sum()"
   ]
  },
  {
   "cell_type": "markdown",
   "metadata": {},
   "source": [
    "From this, we can see that the column 'Strength' is dependent on the values on the other columns. Therefore we split the dataframe into two: the target (strength)\n",
    "and the predictors (the other columns)."
   ]
  },
  {
   "cell_type": "code",
   "execution_count": 6,
   "metadata": {},
   "outputs": [
    {
     "data": {
      "text/html": [
       "<div>\n",
       "<style scoped>\n",
       "    .dataframe tbody tr th:only-of-type {\n",
       "        vertical-align: middle;\n",
       "    }\n",
       "\n",
       "    .dataframe tbody tr th {\n",
       "        vertical-align: top;\n",
       "    }\n",
       "\n",
       "    .dataframe thead th {\n",
       "        text-align: right;\n",
       "    }\n",
       "</style>\n",
       "<table border=\"1\" class=\"dataframe\">\n",
       "  <thead>\n",
       "    <tr style=\"text-align: right;\">\n",
       "      <th></th>\n",
       "      <th>Cement</th>\n",
       "      <th>Blast Furnace Slag</th>\n",
       "      <th>Fly Ash</th>\n",
       "      <th>Water</th>\n",
       "      <th>Superplasticizer</th>\n",
       "      <th>Coarse Aggregate</th>\n",
       "      <th>Fine Aggregate</th>\n",
       "      <th>Age</th>\n",
       "    </tr>\n",
       "  </thead>\n",
       "  <tbody>\n",
       "    <tr>\n",
       "      <th>0</th>\n",
       "      <td>540.0</td>\n",
       "      <td>0.0</td>\n",
       "      <td>0.0</td>\n",
       "      <td>162.0</td>\n",
       "      <td>2.5</td>\n",
       "      <td>1040.0</td>\n",
       "      <td>676.0</td>\n",
       "      <td>28</td>\n",
       "    </tr>\n",
       "    <tr>\n",
       "      <th>1</th>\n",
       "      <td>540.0</td>\n",
       "      <td>0.0</td>\n",
       "      <td>0.0</td>\n",
       "      <td>162.0</td>\n",
       "      <td>2.5</td>\n",
       "      <td>1055.0</td>\n",
       "      <td>676.0</td>\n",
       "      <td>28</td>\n",
       "    </tr>\n",
       "    <tr>\n",
       "      <th>2</th>\n",
       "      <td>332.5</td>\n",
       "      <td>142.5</td>\n",
       "      <td>0.0</td>\n",
       "      <td>228.0</td>\n",
       "      <td>0.0</td>\n",
       "      <td>932.0</td>\n",
       "      <td>594.0</td>\n",
       "      <td>270</td>\n",
       "    </tr>\n",
       "    <tr>\n",
       "      <th>3</th>\n",
       "      <td>332.5</td>\n",
       "      <td>142.5</td>\n",
       "      <td>0.0</td>\n",
       "      <td>228.0</td>\n",
       "      <td>0.0</td>\n",
       "      <td>932.0</td>\n",
       "      <td>594.0</td>\n",
       "      <td>365</td>\n",
       "    </tr>\n",
       "    <tr>\n",
       "      <th>4</th>\n",
       "      <td>198.6</td>\n",
       "      <td>132.4</td>\n",
       "      <td>0.0</td>\n",
       "      <td>192.0</td>\n",
       "      <td>0.0</td>\n",
       "      <td>978.4</td>\n",
       "      <td>825.5</td>\n",
       "      <td>360</td>\n",
       "    </tr>\n",
       "  </tbody>\n",
       "</table>\n",
       "</div>"
      ],
      "text/plain": [
       "   Cement  Blast Furnace Slag  Fly Ash  Water  Superplasticizer  \\\n",
       "0   540.0                 0.0      0.0  162.0               2.5   \n",
       "1   540.0                 0.0      0.0  162.0               2.5   \n",
       "2   332.5               142.5      0.0  228.0               0.0   \n",
       "3   332.5               142.5      0.0  228.0               0.0   \n",
       "4   198.6               132.4      0.0  192.0               0.0   \n",
       "\n",
       "   Coarse Aggregate  Fine Aggregate  Age  \n",
       "0            1040.0           676.0   28  \n",
       "1            1055.0           676.0   28  \n",
       "2             932.0           594.0  270  \n",
       "3             932.0           594.0  365  \n",
       "4             978.4           825.5  360  "
      ]
     },
     "execution_count": 6,
     "metadata": {},
     "output_type": "execute_result"
    }
   ],
   "source": [
    "c_data_columns = c_data.columns\n",
    "predictors = c_data[c_data_columns[c_data_columns != 'Strength']] # creates pandas dataframe for all columns except Strength\n",
    "target = c_data['Strength'] # Strength column in the data frame\n",
    "predictors.head()"
   ]
  },
  {
   "cell_type": "markdown",
   "metadata": {},
   "source": [
    "We can then see the first 5 values of the predictor"
   ]
  },
  {
   "cell_type": "code",
   "execution_count": 7,
   "metadata": {},
   "outputs": [
    {
     "data": {
      "text/plain": [
       "0    79.99\n",
       "1    61.89\n",
       "2    40.27\n",
       "3    41.05\n",
       "4    44.30\n",
       "Name: Strength, dtype: float64"
      ]
     },
     "execution_count": 7,
     "metadata": {},
     "output_type": "execute_result"
    }
   ],
   "source": [
    "target.head()"
   ]
  },
  {
   "cell_type": "markdown",
   "metadata": {},
   "source": [
    "## Normalize the data\n",
    "We subtract the mean of the predictors from the predictors and divide by the standard deviation."
   ]
  },
  {
   "cell_type": "code",
   "execution_count": 8,
   "metadata": {},
   "outputs": [
    {
     "data": {
      "text/html": [
       "<div>\n",
       "<style scoped>\n",
       "    .dataframe tbody tr th:only-of-type {\n",
       "        vertical-align: middle;\n",
       "    }\n",
       "\n",
       "    .dataframe tbody tr th {\n",
       "        vertical-align: top;\n",
       "    }\n",
       "\n",
       "    .dataframe thead th {\n",
       "        text-align: right;\n",
       "    }\n",
       "</style>\n",
       "<table border=\"1\" class=\"dataframe\">\n",
       "  <thead>\n",
       "    <tr style=\"text-align: right;\">\n",
       "      <th></th>\n",
       "      <th>Cement</th>\n",
       "      <th>Blast Furnace Slag</th>\n",
       "      <th>Fly Ash</th>\n",
       "      <th>Water</th>\n",
       "      <th>Superplasticizer</th>\n",
       "      <th>Coarse Aggregate</th>\n",
       "      <th>Fine Aggregate</th>\n",
       "      <th>Age</th>\n",
       "    </tr>\n",
       "  </thead>\n",
       "  <tbody>\n",
       "    <tr>\n",
       "      <th>0</th>\n",
       "      <td>2.476712</td>\n",
       "      <td>-0.856472</td>\n",
       "      <td>-0.846733</td>\n",
       "      <td>-0.916319</td>\n",
       "      <td>-0.620147</td>\n",
       "      <td>0.862735</td>\n",
       "      <td>-1.217079</td>\n",
       "      <td>-0.279597</td>\n",
       "    </tr>\n",
       "    <tr>\n",
       "      <th>1</th>\n",
       "      <td>2.476712</td>\n",
       "      <td>-0.856472</td>\n",
       "      <td>-0.846733</td>\n",
       "      <td>-0.916319</td>\n",
       "      <td>-0.620147</td>\n",
       "      <td>1.055651</td>\n",
       "      <td>-1.217079</td>\n",
       "      <td>-0.279597</td>\n",
       "    </tr>\n",
       "    <tr>\n",
       "      <th>2</th>\n",
       "      <td>0.491187</td>\n",
       "      <td>0.795140</td>\n",
       "      <td>-0.846733</td>\n",
       "      <td>2.174405</td>\n",
       "      <td>-1.038638</td>\n",
       "      <td>-0.526262</td>\n",
       "      <td>-2.239829</td>\n",
       "      <td>3.551340</td>\n",
       "    </tr>\n",
       "    <tr>\n",
       "      <th>3</th>\n",
       "      <td>0.491187</td>\n",
       "      <td>0.795140</td>\n",
       "      <td>-0.846733</td>\n",
       "      <td>2.174405</td>\n",
       "      <td>-1.038638</td>\n",
       "      <td>-0.526262</td>\n",
       "      <td>-2.239829</td>\n",
       "      <td>5.055221</td>\n",
       "    </tr>\n",
       "    <tr>\n",
       "      <th>4</th>\n",
       "      <td>-0.790075</td>\n",
       "      <td>0.678079</td>\n",
       "      <td>-0.846733</td>\n",
       "      <td>0.488555</td>\n",
       "      <td>-1.038638</td>\n",
       "      <td>0.070492</td>\n",
       "      <td>0.647569</td>\n",
       "      <td>4.976069</td>\n",
       "    </tr>\n",
       "  </tbody>\n",
       "</table>\n",
       "</div>"
      ],
      "text/plain": [
       "     Cement  Blast Furnace Slag   Fly Ash     Water  Superplasticizer  \\\n",
       "0  2.476712           -0.856472 -0.846733 -0.916319         -0.620147   \n",
       "1  2.476712           -0.856472 -0.846733 -0.916319         -0.620147   \n",
       "2  0.491187            0.795140 -0.846733  2.174405         -1.038638   \n",
       "3  0.491187            0.795140 -0.846733  2.174405         -1.038638   \n",
       "4 -0.790075            0.678079 -0.846733  0.488555         -1.038638   \n",
       "\n",
       "   Coarse Aggregate  Fine Aggregate       Age  \n",
       "0          0.862735       -1.217079 -0.279597  \n",
       "1          1.055651       -1.217079 -0.279597  \n",
       "2         -0.526262       -2.239829  3.551340  \n",
       "3         -0.526262       -2.239829  5.055221  \n",
       "4          0.070492        0.647569  4.976069  "
      ]
     },
     "execution_count": 8,
     "metadata": {},
     "output_type": "execute_result"
    }
   ],
   "source": [
    "predictors = (predictors-predictors.mean())/predictors.std()\n",
    "predictors.head()"
   ]
  },
  {
   "cell_type": "markdown",
   "metadata": {},
   "source": [
    "Additionally, we must save the number of predictors in such a manner as it is necessitated by the following function."
   ]
  },
  {
   "cell_type": "code",
   "execution_count": 9,
   "metadata": {},
   "outputs": [],
   "source": [
    "n_cols = predictors.shape[1] # number of predictors"
   ]
  },
  {
   "cell_type": "markdown",
   "metadata": {},
   "source": [
    "Next We import Keras and all the requisite packages."
   ]
  },
  {
   "cell_type": "code",
   "execution_count": 10,
   "metadata": {},
   "outputs": [],
   "source": [
    "import keras\n",
    "from keras.models import Sequential\n",
    "from keras.layers import Dense"
   ]
  },
  {
   "cell_type": "markdown",
   "metadata": {},
   "source": [
    "## Regression Model\n",
    "\n",
    "We then make our regression model"
   ]
  },
  {
   "cell_type": "code",
   "execution_count": 11,
   "metadata": {},
   "outputs": [],
   "source": [
    "# define regression model\n",
    "def regression_model():\n",
    "    # create model\n",
    "    model = Sequential()#Creates a sequnetial model\n",
    "    model.add(Dense(10, activation='relu', input_shape=(n_cols,)))# creates 10 nodes using the Relu function as an activation function\n",
    "    model.add(Dense(1)) #The output layer\n",
    "    \n",
    "    # compile model\n",
    "    model.compile(optimizer='adam', loss='mean_squared_error') #The optimizer used was adam and mean squared error is used as the loss in back propagation.\n",
    "    return model"
   ]
  },
  {
   "cell_type": "markdown",
   "metadata": {},
   "source": [
    "## Training and Testing\n",
    "We now implement a test/train split to first train the data then test it."
   ]
  },
  {
   "cell_type": "code",
   "execution_count": 12,
   "metadata": {},
   "outputs": [],
   "source": [
    "from sklearn.model_selection import train_test_split\n",
    "X_train, X_test, y_train, y_test = train_test_split(predictors,  target, test_size=0.3, random_state = 4)"
   ]
  },
  {
   "cell_type": "markdown",
   "metadata": {},
   "source": [
    "The model is then called and trained for 50 epochs."
   ]
  },
  {
   "cell_type": "code",
   "execution_count": 13,
   "metadata": {},
   "outputs": [
    {
     "name": "stdout",
     "output_type": "stream",
     "text": [
      "Epoch 1/50\n",
      "23/23 - 0s - loss: 1618.0070 - 421ms/epoch - 18ms/step\n",
      "Epoch 2/50\n",
      "23/23 - 0s - loss: 1602.9303 - 26ms/epoch - 1ms/step\n",
      "Epoch 3/50\n",
      "23/23 - 0s - loss: 1588.1389 - 32ms/epoch - 1ms/step\n",
      "Epoch 4/50\n",
      "23/23 - 0s - loss: 1573.2458 - 32ms/epoch - 1ms/step\n",
      "Epoch 5/50\n",
      "23/23 - 0s - loss: 1558.2402 - 31ms/epoch - 1ms/step\n",
      "Epoch 6/50\n",
      "23/23 - 0s - loss: 1542.6643 - 141ms/epoch - 6ms/step\n",
      "Epoch 7/50\n",
      "23/23 - 0s - loss: 1526.5453 - 25ms/epoch - 1ms/step\n",
      "Epoch 8/50\n",
      "23/23 - 0s - loss: 1509.7190 - 31ms/epoch - 1ms/step\n",
      "Epoch 9/50\n",
      "23/23 - 0s - loss: 1492.0255 - 31ms/epoch - 1ms/step\n",
      "Epoch 10/50\n",
      "23/23 - 0s - loss: 1473.6003 - 31ms/epoch - 1ms/step\n",
      "Epoch 11/50\n",
      "23/23 - 0s - loss: 1454.1224 - 34ms/epoch - 1ms/step\n",
      "Epoch 12/50\n",
      "23/23 - 0s - loss: 1433.7861 - 30ms/epoch - 1ms/step\n",
      "Epoch 13/50\n",
      "23/23 - 0s - loss: 1412.8386 - 32ms/epoch - 1ms/step\n",
      "Epoch 14/50\n",
      "23/23 - 0s - loss: 1391.0161 - 33ms/epoch - 1ms/step\n",
      "Epoch 15/50\n",
      "23/23 - 0s - loss: 1368.4532 - 30ms/epoch - 1ms/step\n",
      "Epoch 16/50\n",
      "23/23 - 0s - loss: 1344.9434 - 29ms/epoch - 1ms/step\n",
      "Epoch 17/50\n",
      "23/23 - 0s - loss: 1320.4950 - 30ms/epoch - 1ms/step\n",
      "Epoch 18/50\n",
      "23/23 - 0s - loss: 1295.3865 - 33ms/epoch - 1ms/step\n",
      "Epoch 19/50\n",
      "23/23 - 0s - loss: 1269.5798 - 33ms/epoch - 1ms/step\n",
      "Epoch 20/50\n",
      "23/23 - 0s - loss: 1243.0723 - 29ms/epoch - 1ms/step\n",
      "Epoch 21/50\n",
      "23/23 - 0s - loss: 1215.5155 - 32ms/epoch - 1ms/step\n",
      "Epoch 22/50\n",
      "23/23 - 0s - loss: 1187.2932 - 26ms/epoch - 1ms/step\n",
      "Epoch 23/50\n",
      "23/23 - 0s - loss: 1158.5554 - 28ms/epoch - 1ms/step\n",
      "Epoch 24/50\n",
      "23/23 - 0s - loss: 1128.2052 - 34ms/epoch - 1ms/step\n",
      "Epoch 25/50\n",
      "23/23 - 0s - loss: 1097.6293 - 28ms/epoch - 1ms/step\n",
      "Epoch 26/50\n",
      "23/23 - 0s - loss: 1066.3472 - 30ms/epoch - 1ms/step\n",
      "Epoch 27/50\n",
      "23/23 - 0s - loss: 1034.1516 - 28ms/epoch - 1ms/step\n",
      "Epoch 28/50\n",
      "23/23 - 0s - loss: 1001.9670 - 31ms/epoch - 1ms/step\n",
      "Epoch 29/50\n",
      "23/23 - 0s - loss: 968.4421 - 31ms/epoch - 1ms/step\n",
      "Epoch 30/50\n",
      "23/23 - 0s - loss: 935.5458 - 32ms/epoch - 1ms/step\n",
      "Epoch 31/50\n",
      "23/23 - 0s - loss: 901.4588 - 26ms/epoch - 1ms/step\n",
      "Epoch 32/50\n",
      "23/23 - 0s - loss: 867.6093 - 28ms/epoch - 1ms/step\n",
      "Epoch 33/50\n",
      "23/23 - 0s - loss: 833.1902 - 27ms/epoch - 1ms/step\n",
      "Epoch 34/50\n",
      "23/23 - 0s - loss: 799.5210 - 33ms/epoch - 1ms/step\n",
      "Epoch 35/50\n",
      "23/23 - 0s - loss: 765.0854 - 33ms/epoch - 1ms/step\n",
      "Epoch 36/50\n",
      "23/23 - 0s - loss: 731.8889 - 30ms/epoch - 1ms/step\n",
      "Epoch 37/50\n",
      "23/23 - 0s - loss: 699.2510 - 29ms/epoch - 1ms/step\n",
      "Epoch 38/50\n",
      "23/23 - 0s - loss: 666.9416 - 29ms/epoch - 1ms/step\n",
      "Epoch 39/50\n",
      "23/23 - 0s - loss: 635.8138 - 26ms/epoch - 1ms/step\n",
      "Epoch 40/50\n",
      "23/23 - 0s - loss: 605.4519 - 29ms/epoch - 1ms/step\n",
      "Epoch 41/50\n",
      "23/23 - 0s - loss: 576.9855 - 28ms/epoch - 1ms/step\n",
      "Epoch 42/50\n",
      "23/23 - 0s - loss: 549.1586 - 31ms/epoch - 1ms/step\n",
      "Epoch 43/50\n",
      "23/23 - 0s - loss: 522.8818 - 29ms/epoch - 1ms/step\n",
      "Epoch 44/50\n",
      "23/23 - 0s - loss: 497.7730 - 35ms/epoch - 2ms/step\n",
      "Epoch 45/50\n",
      "23/23 - 0s - loss: 474.2045 - 40ms/epoch - 2ms/step\n",
      "Epoch 46/50\n",
      "23/23 - 0s - loss: 452.2334 - 40ms/epoch - 2ms/step\n",
      "Epoch 47/50\n",
      "23/23 - 0s - loss: 431.2592 - 33ms/epoch - 1ms/step\n",
      "Epoch 48/50\n",
      "23/23 - 0s - loss: 412.0547 - 35ms/epoch - 2ms/step\n",
      "Epoch 49/50\n",
      "23/23 - 0s - loss: 393.7254 - 37ms/epoch - 2ms/step\n",
      "Epoch 50/50\n",
      "23/23 - 0s - loss: 377.1178 - 38ms/epoch - 2ms/step\n"
     ]
    },
    {
     "data": {
      "text/plain": [
       "<keras.callbacks.History at 0x222343ee7a0>"
      ]
     },
     "execution_count": 13,
     "metadata": {},
     "output_type": "execute_result"
    }
   ],
   "source": [
    "R_model = regression_model()\n",
    "R_model.fit(X_train, y_train, epochs=50, verbose=2)"
   ]
  },
  {
   "cell_type": "markdown",
   "metadata": {},
   "source": [
    "## Evaluation\n",
    "Finally, we evaluate the model. To do this we use the mean squared error."
   ]
  },
  {
   "cell_type": "code",
   "execution_count": 14,
   "metadata": {},
   "outputs": [
    {
     "name": "stdout",
     "output_type": "stream",
     "text": [
      "10/10 [==============================] - 0s 1ms/step - loss: 392.1531\n",
      "10/10 [==============================] - 0s 2ms/step\n",
      "The mean was found to be: 392.1530619136785\n",
      "The standard deviation was found to be: 0.0\n"
     ]
    }
   ],
   "source": [
    "from sklearn.metrics import mean_squared_error\n",
    "loss_value = R_model.evaluate(X_test, y_test)\n",
    "y_predicted = R_model.predict(X_test)\n",
    "MSE = mean_squared_error(y_test, y_predicted)\n",
    "std_dev = np.std(MSE)\n",
    "mean = np.mean(MSE)\n",
    "\n",
    "print(\"The mean was found to be:\", mean)\n",
    "print(\"The standard deviation was found to be:\", std_dev)"
   ]
  },
  {
   "cell_type": "markdown",
   "metadata": {},
   "source": [
    "We then determine the mean and standard deviation of the mean squared error for 50 iterations."
   ]
  },
  {
   "cell_type": "code",
   "execution_count": 15,
   "metadata": {},
   "outputs": [
    {
     "name": "stdout",
     "output_type": "stream",
     "text": [
      "Mean Squared Error 1 : 188.77041625976562\n",
      "10/10 [==============================] - 0s 1ms/step\n",
      "Mean Squared Error 2 : 140.55567932128906\n",
      "10/10 [==============================] - 0s 1ms/step\n",
      "Mean Squared Error 3 : 107.03218841552734\n",
      "10/10 [==============================] - 0s 889us/step\n",
      "Mean Squared Error 4 : 85.83992004394531\n",
      "10/10 [==============================] - 0s 1ms/step\n",
      "Mean Squared Error 5 : 67.27242279052734\n",
      "10/10 [==============================] - 0s 1ms/step\n",
      "Mean Squared Error 6 : 55.853736877441406\n",
      "10/10 [==============================] - 0s 1ms/step\n",
      "Mean Squared Error 7 : 50.62457275390625\n",
      "10/10 [==============================] - 0s 986us/step\n",
      "Mean Squared Error 8 : 47.9051628112793\n",
      "10/10 [==============================] - 0s 1ms/step\n",
      "Mean Squared Error 9 : 46.195045471191406\n",
      "10/10 [==============================] - 0s 1ms/step\n",
      "Mean Squared Error 10 : 44.887996673583984\n",
      "10/10 [==============================] - 0s 1ms/step\n",
      "Mean Squared Error 11 : 44.192684173583984\n",
      "10/10 [==============================] - 0s 1ms/step\n",
      "Mean Squared Error 12 : 43.55779266357422\n",
      "10/10 [==============================] - 0s 1ms/step\n",
      "Mean Squared Error 13 : 43.20327377319336\n",
      "10/10 [==============================] - 0s 1ms/step\n",
      "Mean Squared Error 14 : 42.79388427734375\n",
      "10/10 [==============================] - 0s 1ms/step\n",
      "Mean Squared Error 15 : 42.20158767700195\n",
      "10/10 [==============================] - 0s 2ms/step\n",
      "Mean Squared Error 16 : 41.86423873901367\n",
      "10/10 [==============================] - 0s 1ms/step\n",
      "Mean Squared Error 17 : 41.60579299926758\n",
      "10/10 [==============================] - 0s 1ms/step\n",
      "Mean Squared Error 18 : 41.281402587890625\n",
      "10/10 [==============================] - 0s 1ms/step\n",
      "Mean Squared Error 19 : 40.9407958984375\n",
      "10/10 [==============================] - 0s 886us/step\n",
      "Mean Squared Error 20 : 40.50836944580078\n",
      "10/10 [==============================] - 0s 998us/step\n",
      "Mean Squared Error 21 : 40.44917678833008\n",
      "10/10 [==============================] - 0s 1ms/step\n",
      "Mean Squared Error 22 : 39.9564323425293\n",
      "10/10 [==============================] - 0s 888us/step\n",
      "Mean Squared Error 23 : 39.79179763793945\n",
      "10/10 [==============================] - 0s 1ms/step\n",
      "Mean Squared Error 24 : 39.57030487060547\n",
      "10/10 [==============================] - 0s 996us/step\n",
      "Mean Squared Error 25 : 39.621849060058594\n",
      "10/10 [==============================] - 0s 1ms/step\n",
      "Mean Squared Error 26 : 39.612606048583984\n",
      "10/10 [==============================] - 0s 1ms/step\n",
      "Mean Squared Error 27 : 39.43560028076172\n",
      "10/10 [==============================] - 0s 1ms/step\n",
      "Mean Squared Error 28 : 39.35178756713867\n",
      "10/10 [==============================] - 0s 918us/step\n",
      "Mean Squared Error 29 : 39.19702911376953\n",
      "10/10 [==============================] - 0s 1ms/step\n",
      "Mean Squared Error 30 : 39.15191650390625\n",
      "10/10 [==============================] - 0s 996us/step\n",
      "Mean Squared Error 31 : 39.07301330566406\n",
      "10/10 [==============================] - 0s 1ms/step\n",
      "Mean Squared Error 32 : 38.992366790771484\n",
      "10/10 [==============================] - 0s 1ms/step\n",
      "Mean Squared Error 33 : 38.830814361572266\n",
      "10/10 [==============================] - 0s 1ms/step\n",
      "Mean Squared Error 34 : 38.705562591552734\n",
      "10/10 [==============================] - 0s 1ms/step\n",
      "Mean Squared Error 35 : 38.703704833984375\n",
      "10/10 [==============================] - 0s 936us/step\n",
      "Mean Squared Error 36 : 38.62253952026367\n",
      "10/10 [==============================] - 0s 2ms/step\n",
      "Mean Squared Error 37 : 38.72712707519531\n",
      "10/10 [==============================] - 0s 1ms/step\n",
      "Mean Squared Error 38 : 38.58036422729492\n",
      "10/10 [==============================] - 0s 1ms/step\n",
      "Mean Squared Error 39 : 38.495887756347656\n",
      "10/10 [==============================] - 0s 1ms/step\n",
      "Mean Squared Error 40 : 38.53648376464844\n",
      "10/10 [==============================] - 0s 1ms/step\n",
      "Mean Squared Error 41 : 38.733009338378906\n",
      "10/10 [==============================] - 0s 1ms/step\n",
      "Mean Squared Error 42 : 38.497535705566406\n",
      "10/10 [==============================] - 0s 1ms/step\n",
      "Mean Squared Error 43 : 38.5553092956543\n",
      "10/10 [==============================] - 0s 1ms/step\n",
      "Mean Squared Error 44 : 38.61865234375\n",
      "10/10 [==============================] - 0s 1ms/step\n",
      "Mean Squared Error 45 : 38.660491943359375\n",
      "10/10 [==============================] - 0s 1ms/step\n",
      "Mean Squared Error 46 : 38.55269241333008\n",
      "10/10 [==============================] - 0s 1ms/step\n",
      "Mean Squared Error 47 : 38.77295684814453\n",
      "10/10 [==============================] - 0s 998us/step\n",
      "Mean Squared Error 48 : 38.65742874145508\n",
      "10/10 [==============================] - 0s 887us/step\n",
      "Mean Squared Error 49 : 38.713375091552734\n",
      "10/10 [==============================] - 0s 993us/step\n",
      "Mean Squared Error 50 : 38.49372863769531\n",
      "10/10 [==============================] - 0s 1ms/step\n",
      "The mean of the mean squared errors were determined to be: 48.53496912457376\n",
      "The standard deviation of the mean squared errors were determined to be 27.029432552848\n"
     ]
    }
   ],
   "source": [
    "Sum_MSE = 50\n",
    "MSE_List= []\n",
    "for n in range(0, Sum_MSE):\n",
    "    X_train, X_test, y_train, y_test = train_test_split(predictors,  target, test_size=0.3, random_state = 4)\n",
    "    R_model.fit(X_train, y_train, epochs=50, verbose=0)\n",
    "    MSE = R_model.evaluate(X_test, y_test, verbose=0)\n",
    "    print(\"Mean Squared Error\",str(n+1),\":\",MSE)\n",
    "    y_predicted = R_model.predict(X_test)\n",
    "    MSE = mean_squared_error(y_test, y_predicted)\n",
    "    MSE_List.append(MSE)\n",
    "\n",
    "MSE_List = np.array(MSE_List)\n",
    "mean = np.mean(MSE_List)\n",
    "std_dev = np.std(MSE_List)\n",
    "\n",
    "\n",
    "print(\"The mean of the mean squared errors were determined to be:\", mean)\n",
    "print(\"The standard deviation of the mean squared errors were determined to be\", std_dev)\n",
    "    "
   ]
  },
  {
   "cell_type": "markdown",
   "metadata": {},
   "source": [
    "## Conclusion\n",
    "The mean in part B was lower than that of part A and the standard deviation was lightly higher indicating a slightly reduced precision and greater accuracy."
   ]
  }
 ],
 "metadata": {
  "kernelspec": {
   "display_name": "Python 3.10.4 64-bit",
   "language": "python",
   "name": "python3"
  },
  "language_info": {
   "codemirror_mode": {
    "name": "ipython",
    "version": 3
   },
   "file_extension": ".py",
   "mimetype": "text/x-python",
   "name": "python",
   "nbconvert_exporter": "python",
   "pygments_lexer": "ipython3",
   "version": "3.10.4"
  },
  "orig_nbformat": 4,
  "vscode": {
   "interpreter": {
    "hash": "aa64e7184daae6dd576015e1a1a66f0c541bcfb9cde5feb52064ff5d249c9e32"
   }
  }
 },
 "nbformat": 4,
 "nbformat_minor": 2
}
