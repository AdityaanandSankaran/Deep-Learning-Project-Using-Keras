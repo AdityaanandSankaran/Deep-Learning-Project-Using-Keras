{
 "cells": [
  {
   "cell_type": "markdown",
   "metadata": {},
   "source": [
    "### Regression Model In Keras Part A\n"
   ]
  },
  {
   "cell_type": "markdown",
   "metadata": {},
   "source": [
    "First, the appropriate libraries are imported, i.e. Pandas and NumPy."
   ]
  },
  {
   "cell_type": "code",
   "execution_count": 1,
   "metadata": {},
   "outputs": [],
   "source": [
    "import pandas as pd #This code imports pandas libraries\n",
    "import numpy as np #This code imports NumPy libraries"
   ]
  },
  {
   "cell_type": "markdown",
   "metadata": {},
   "source": [
    "Next, we load the csv file using the pandas library into a dataframe."
   ]
  },
  {
   "cell_type": "code",
   "execution_count": 2,
   "metadata": {},
   "outputs": [
    {
     "data": {
      "text/html": [
       "<div>\n",
       "<style scoped>\n",
       "    .dataframe tbody tr th:only-of-type {\n",
       "        vertical-align: middle;\n",
       "    }\n",
       "\n",
       "    .dataframe tbody tr th {\n",
       "        vertical-align: top;\n",
       "    }\n",
       "\n",
       "    .dataframe thead th {\n",
       "        text-align: right;\n",
       "    }\n",
       "</style>\n",
       "<table border=\"1\" class=\"dataframe\">\n",
       "  <thead>\n",
       "    <tr style=\"text-align: right;\">\n",
       "      <th></th>\n",
       "      <th>Cement</th>\n",
       "      <th>Blast Furnace Slag</th>\n",
       "      <th>Fly Ash</th>\n",
       "      <th>Water</th>\n",
       "      <th>Superplasticizer</th>\n",
       "      <th>Coarse Aggregate</th>\n",
       "      <th>Fine Aggregate</th>\n",
       "      <th>Age</th>\n",
       "      <th>Strength</th>\n",
       "    </tr>\n",
       "  </thead>\n",
       "  <tbody>\n",
       "    <tr>\n",
       "      <th>0</th>\n",
       "      <td>540.0</td>\n",
       "      <td>0.0</td>\n",
       "      <td>0.0</td>\n",
       "      <td>162.0</td>\n",
       "      <td>2.5</td>\n",
       "      <td>1040.0</td>\n",
       "      <td>676.0</td>\n",
       "      <td>28</td>\n",
       "      <td>79.99</td>\n",
       "    </tr>\n",
       "    <tr>\n",
       "      <th>1</th>\n",
       "      <td>540.0</td>\n",
       "      <td>0.0</td>\n",
       "      <td>0.0</td>\n",
       "      <td>162.0</td>\n",
       "      <td>2.5</td>\n",
       "      <td>1055.0</td>\n",
       "      <td>676.0</td>\n",
       "      <td>28</td>\n",
       "      <td>61.89</td>\n",
       "    </tr>\n",
       "    <tr>\n",
       "      <th>2</th>\n",
       "      <td>332.5</td>\n",
       "      <td>142.5</td>\n",
       "      <td>0.0</td>\n",
       "      <td>228.0</td>\n",
       "      <td>0.0</td>\n",
       "      <td>932.0</td>\n",
       "      <td>594.0</td>\n",
       "      <td>270</td>\n",
       "      <td>40.27</td>\n",
       "    </tr>\n",
       "    <tr>\n",
       "      <th>3</th>\n",
       "      <td>332.5</td>\n",
       "      <td>142.5</td>\n",
       "      <td>0.0</td>\n",
       "      <td>228.0</td>\n",
       "      <td>0.0</td>\n",
       "      <td>932.0</td>\n",
       "      <td>594.0</td>\n",
       "      <td>365</td>\n",
       "      <td>41.05</td>\n",
       "    </tr>\n",
       "    <tr>\n",
       "      <th>4</th>\n",
       "      <td>198.6</td>\n",
       "      <td>132.4</td>\n",
       "      <td>0.0</td>\n",
       "      <td>192.0</td>\n",
       "      <td>0.0</td>\n",
       "      <td>978.4</td>\n",
       "      <td>825.5</td>\n",
       "      <td>360</td>\n",
       "      <td>44.30</td>\n",
       "    </tr>\n",
       "  </tbody>\n",
       "</table>\n",
       "</div>"
      ],
      "text/plain": [
       "   Cement  Blast Furnace Slag  Fly Ash  Water  Superplasticizer  \\\n",
       "0   540.0                 0.0      0.0  162.0               2.5   \n",
       "1   540.0                 0.0      0.0  162.0               2.5   \n",
       "2   332.5               142.5      0.0  228.0               0.0   \n",
       "3   332.5               142.5      0.0  228.0               0.0   \n",
       "4   198.6               132.4      0.0  192.0               0.0   \n",
       "\n",
       "   Coarse Aggregate  Fine Aggregate  Age  Strength  \n",
       "0            1040.0           676.0   28     79.99  \n",
       "1            1055.0           676.0   28     61.89  \n",
       "2             932.0           594.0  270     40.27  \n",
       "3             932.0           594.0  365     41.05  \n",
       "4             978.4           825.5  360     44.30  "
      ]
     },
     "execution_count": 2,
     "metadata": {},
     "output_type": "execute_result"
    }
   ],
   "source": [
    "c_data = pd.read_csv('https://cocl.us/concrete_data') #This code reads the data from the csv file into a pandas dataframe\n",
    "c_data.head() #We then display the first 5 rows of data"
   ]
  },
  {
   "cell_type": "markdown",
   "metadata": {},
   "source": [
    "We then check the shape of the dataframe."
   ]
  },
  {
   "cell_type": "code",
   "execution_count": 3,
   "metadata": {},
   "outputs": [
    {
     "data": {
      "text/plain": [
       "(1030, 9)"
      ]
     },
     "execution_count": 3,
     "metadata": {},
     "output_type": "execute_result"
    }
   ],
   "source": [
    "c_data.shape"
   ]
  },
  {
   "cell_type": "markdown",
   "metadata": {},
   "source": [
    "we determine if the data is erroneous."
   ]
  },
  {
   "cell_type": "code",
   "execution_count": 4,
   "metadata": {},
   "outputs": [
    {
     "data": {
      "text/html": [
       "<div>\n",
       "<style scoped>\n",
       "    .dataframe tbody tr th:only-of-type {\n",
       "        vertical-align: middle;\n",
       "    }\n",
       "\n",
       "    .dataframe tbody tr th {\n",
       "        vertical-align: top;\n",
       "    }\n",
       "\n",
       "    .dataframe thead th {\n",
       "        text-align: right;\n",
       "    }\n",
       "</style>\n",
       "<table border=\"1\" class=\"dataframe\">\n",
       "  <thead>\n",
       "    <tr style=\"text-align: right;\">\n",
       "      <th></th>\n",
       "      <th>Cement</th>\n",
       "      <th>Blast Furnace Slag</th>\n",
       "      <th>Fly Ash</th>\n",
       "      <th>Water</th>\n",
       "      <th>Superplasticizer</th>\n",
       "      <th>Coarse Aggregate</th>\n",
       "      <th>Fine Aggregate</th>\n",
       "      <th>Age</th>\n",
       "      <th>Strength</th>\n",
       "    </tr>\n",
       "  </thead>\n",
       "  <tbody>\n",
       "    <tr>\n",
       "      <th>count</th>\n",
       "      <td>1030.000000</td>\n",
       "      <td>1030.000000</td>\n",
       "      <td>1030.000000</td>\n",
       "      <td>1030.000000</td>\n",
       "      <td>1030.000000</td>\n",
       "      <td>1030.000000</td>\n",
       "      <td>1030.000000</td>\n",
       "      <td>1030.000000</td>\n",
       "      <td>1030.000000</td>\n",
       "    </tr>\n",
       "    <tr>\n",
       "      <th>mean</th>\n",
       "      <td>281.167864</td>\n",
       "      <td>73.895825</td>\n",
       "      <td>54.188350</td>\n",
       "      <td>181.567282</td>\n",
       "      <td>6.204660</td>\n",
       "      <td>972.918932</td>\n",
       "      <td>773.580485</td>\n",
       "      <td>45.662136</td>\n",
       "      <td>35.817961</td>\n",
       "    </tr>\n",
       "    <tr>\n",
       "      <th>std</th>\n",
       "      <td>104.506364</td>\n",
       "      <td>86.279342</td>\n",
       "      <td>63.997004</td>\n",
       "      <td>21.354219</td>\n",
       "      <td>5.973841</td>\n",
       "      <td>77.753954</td>\n",
       "      <td>80.175980</td>\n",
       "      <td>63.169912</td>\n",
       "      <td>16.705742</td>\n",
       "    </tr>\n",
       "    <tr>\n",
       "      <th>min</th>\n",
       "      <td>102.000000</td>\n",
       "      <td>0.000000</td>\n",
       "      <td>0.000000</td>\n",
       "      <td>121.800000</td>\n",
       "      <td>0.000000</td>\n",
       "      <td>801.000000</td>\n",
       "      <td>594.000000</td>\n",
       "      <td>1.000000</td>\n",
       "      <td>2.330000</td>\n",
       "    </tr>\n",
       "    <tr>\n",
       "      <th>25%</th>\n",
       "      <td>192.375000</td>\n",
       "      <td>0.000000</td>\n",
       "      <td>0.000000</td>\n",
       "      <td>164.900000</td>\n",
       "      <td>0.000000</td>\n",
       "      <td>932.000000</td>\n",
       "      <td>730.950000</td>\n",
       "      <td>7.000000</td>\n",
       "      <td>23.710000</td>\n",
       "    </tr>\n",
       "    <tr>\n",
       "      <th>50%</th>\n",
       "      <td>272.900000</td>\n",
       "      <td>22.000000</td>\n",
       "      <td>0.000000</td>\n",
       "      <td>185.000000</td>\n",
       "      <td>6.400000</td>\n",
       "      <td>968.000000</td>\n",
       "      <td>779.500000</td>\n",
       "      <td>28.000000</td>\n",
       "      <td>34.445000</td>\n",
       "    </tr>\n",
       "    <tr>\n",
       "      <th>75%</th>\n",
       "      <td>350.000000</td>\n",
       "      <td>142.950000</td>\n",
       "      <td>118.300000</td>\n",
       "      <td>192.000000</td>\n",
       "      <td>10.200000</td>\n",
       "      <td>1029.400000</td>\n",
       "      <td>824.000000</td>\n",
       "      <td>56.000000</td>\n",
       "      <td>46.135000</td>\n",
       "    </tr>\n",
       "    <tr>\n",
       "      <th>max</th>\n",
       "      <td>540.000000</td>\n",
       "      <td>359.400000</td>\n",
       "      <td>200.100000</td>\n",
       "      <td>247.000000</td>\n",
       "      <td>32.200000</td>\n",
       "      <td>1145.000000</td>\n",
       "      <td>992.600000</td>\n",
       "      <td>365.000000</td>\n",
       "      <td>82.600000</td>\n",
       "    </tr>\n",
       "  </tbody>\n",
       "</table>\n",
       "</div>"
      ],
      "text/plain": [
       "            Cement  Blast Furnace Slag      Fly Ash        Water  \\\n",
       "count  1030.000000         1030.000000  1030.000000  1030.000000   \n",
       "mean    281.167864           73.895825    54.188350   181.567282   \n",
       "std     104.506364           86.279342    63.997004    21.354219   \n",
       "min     102.000000            0.000000     0.000000   121.800000   \n",
       "25%     192.375000            0.000000     0.000000   164.900000   \n",
       "50%     272.900000           22.000000     0.000000   185.000000   \n",
       "75%     350.000000          142.950000   118.300000   192.000000   \n",
       "max     540.000000          359.400000   200.100000   247.000000   \n",
       "\n",
       "       Superplasticizer  Coarse Aggregate  Fine Aggregate          Age  \\\n",
       "count       1030.000000       1030.000000     1030.000000  1030.000000   \n",
       "mean           6.204660        972.918932      773.580485    45.662136   \n",
       "std            5.973841         77.753954       80.175980    63.169912   \n",
       "min            0.000000        801.000000      594.000000     1.000000   \n",
       "25%            0.000000        932.000000      730.950000     7.000000   \n",
       "50%            6.400000        968.000000      779.500000    28.000000   \n",
       "75%           10.200000       1029.400000      824.000000    56.000000   \n",
       "max           32.200000       1145.000000      992.600000   365.000000   \n",
       "\n",
       "          Strength  \n",
       "count  1030.000000  \n",
       "mean     35.817961  \n",
       "std      16.705742  \n",
       "min       2.330000  \n",
       "25%      23.710000  \n",
       "50%      34.445000  \n",
       "75%      46.135000  \n",
       "max      82.600000  "
      ]
     },
     "execution_count": 4,
     "metadata": {},
     "output_type": "execute_result"
    }
   ],
   "source": [
    "c_data.describe()"
   ]
  },
  {
   "cell_type": "code",
   "execution_count": 5,
   "metadata": {},
   "outputs": [
    {
     "data": {
      "text/plain": [
       "Cement                0\n",
       "Blast Furnace Slag    0\n",
       "Fly Ash               0\n",
       "Water                 0\n",
       "Superplasticizer      0\n",
       "Coarse Aggregate      0\n",
       "Fine Aggregate        0\n",
       "Age                   0\n",
       "Strength              0\n",
       "dtype: int64"
      ]
     },
     "execution_count": 5,
     "metadata": {},
     "output_type": "execute_result"
    }
   ],
   "source": [
    "c_data.isnull().sum()"
   ]
  },
  {
   "cell_type": "markdown",
   "metadata": {},
   "source": [
    "From this, we can see that the column 'Strength' is dependent on the values on the other columns. Therefore we split the dataframe into two: the target (strength)\n",
    "and the predictors (the other columns)."
   ]
  },
  {
   "cell_type": "code",
   "execution_count": 6,
   "metadata": {},
   "outputs": [
    {
     "data": {
      "text/html": [
       "<div>\n",
       "<style scoped>\n",
       "    .dataframe tbody tr th:only-of-type {\n",
       "        vertical-align: middle;\n",
       "    }\n",
       "\n",
       "    .dataframe tbody tr th {\n",
       "        vertical-align: top;\n",
       "    }\n",
       "\n",
       "    .dataframe thead th {\n",
       "        text-align: right;\n",
       "    }\n",
       "</style>\n",
       "<table border=\"1\" class=\"dataframe\">\n",
       "  <thead>\n",
       "    <tr style=\"text-align: right;\">\n",
       "      <th></th>\n",
       "      <th>Cement</th>\n",
       "      <th>Blast Furnace Slag</th>\n",
       "      <th>Fly Ash</th>\n",
       "      <th>Water</th>\n",
       "      <th>Superplasticizer</th>\n",
       "      <th>Coarse Aggregate</th>\n",
       "      <th>Fine Aggregate</th>\n",
       "      <th>Age</th>\n",
       "    </tr>\n",
       "  </thead>\n",
       "  <tbody>\n",
       "    <tr>\n",
       "      <th>0</th>\n",
       "      <td>540.0</td>\n",
       "      <td>0.0</td>\n",
       "      <td>0.0</td>\n",
       "      <td>162.0</td>\n",
       "      <td>2.5</td>\n",
       "      <td>1040.0</td>\n",
       "      <td>676.0</td>\n",
       "      <td>28</td>\n",
       "    </tr>\n",
       "    <tr>\n",
       "      <th>1</th>\n",
       "      <td>540.0</td>\n",
       "      <td>0.0</td>\n",
       "      <td>0.0</td>\n",
       "      <td>162.0</td>\n",
       "      <td>2.5</td>\n",
       "      <td>1055.0</td>\n",
       "      <td>676.0</td>\n",
       "      <td>28</td>\n",
       "    </tr>\n",
       "    <tr>\n",
       "      <th>2</th>\n",
       "      <td>332.5</td>\n",
       "      <td>142.5</td>\n",
       "      <td>0.0</td>\n",
       "      <td>228.0</td>\n",
       "      <td>0.0</td>\n",
       "      <td>932.0</td>\n",
       "      <td>594.0</td>\n",
       "      <td>270</td>\n",
       "    </tr>\n",
       "    <tr>\n",
       "      <th>3</th>\n",
       "      <td>332.5</td>\n",
       "      <td>142.5</td>\n",
       "      <td>0.0</td>\n",
       "      <td>228.0</td>\n",
       "      <td>0.0</td>\n",
       "      <td>932.0</td>\n",
       "      <td>594.0</td>\n",
       "      <td>365</td>\n",
       "    </tr>\n",
       "    <tr>\n",
       "      <th>4</th>\n",
       "      <td>198.6</td>\n",
       "      <td>132.4</td>\n",
       "      <td>0.0</td>\n",
       "      <td>192.0</td>\n",
       "      <td>0.0</td>\n",
       "      <td>978.4</td>\n",
       "      <td>825.5</td>\n",
       "      <td>360</td>\n",
       "    </tr>\n",
       "  </tbody>\n",
       "</table>\n",
       "</div>"
      ],
      "text/plain": [
       "   Cement  Blast Furnace Slag  Fly Ash  Water  Superplasticizer  \\\n",
       "0   540.0                 0.0      0.0  162.0               2.5   \n",
       "1   540.0                 0.0      0.0  162.0               2.5   \n",
       "2   332.5               142.5      0.0  228.0               0.0   \n",
       "3   332.5               142.5      0.0  228.0               0.0   \n",
       "4   198.6               132.4      0.0  192.0               0.0   \n",
       "\n",
       "   Coarse Aggregate  Fine Aggregate  Age  \n",
       "0            1040.0           676.0   28  \n",
       "1            1055.0           676.0   28  \n",
       "2             932.0           594.0  270  \n",
       "3             932.0           594.0  365  \n",
       "4             978.4           825.5  360  "
      ]
     },
     "execution_count": 6,
     "metadata": {},
     "output_type": "execute_result"
    }
   ],
   "source": [
    "c_data_columns = c_data.columns\n",
    "predictors = c_data[c_data_columns[c_data_columns != 'Strength']] # creates pandas dataframe for all columns except Strength\n",
    "target = c_data['Strength'] # Strength column in the data frame\n",
    "predictors.head()"
   ]
  },
  {
   "cell_type": "markdown",
   "metadata": {},
   "source": [
    "We can then see the first 5 values of the predictor"
   ]
  },
  {
   "cell_type": "code",
   "execution_count": 7,
   "metadata": {},
   "outputs": [
    {
     "data": {
      "text/plain": [
       "0    79.99\n",
       "1    61.89\n",
       "2    40.27\n",
       "3    41.05\n",
       "4    44.30\n",
       "Name: Strength, dtype: float64"
      ]
     },
     "execution_count": 7,
     "metadata": {},
     "output_type": "execute_result"
    }
   ],
   "source": [
    "target.head()"
   ]
  },
  {
   "cell_type": "markdown",
   "metadata": {},
   "source": [
    "Additionally, we must save the number of predictors in such a manner as it is necessitated by the following function."
   ]
  },
  {
   "cell_type": "code",
   "execution_count": 8,
   "metadata": {},
   "outputs": [],
   "source": [
    "n_cols = predictors.shape[1] # number of predictors"
   ]
  },
  {
   "cell_type": "markdown",
   "metadata": {},
   "source": [
    "Next We import Keras and all the requisite packages."
   ]
  },
  {
   "cell_type": "code",
   "execution_count": 9,
   "metadata": {},
   "outputs": [],
   "source": [
    "import keras\n",
    "from keras.models import Sequential\n",
    "from keras.layers import Dense"
   ]
  },
  {
   "cell_type": "markdown",
   "metadata": {},
   "source": [
    "## Regression Model\n",
    "\n",
    "We then make our regression model"
   ]
  },
  {
   "cell_type": "code",
   "execution_count": 10,
   "metadata": {},
   "outputs": [],
   "source": [
    "# define regression model\n",
    "def regression_model():\n",
    "    # create model\n",
    "    model = Sequential()#Creates a sequnetial model\n",
    "    model.add(Dense(10, activation='relu', input_shape=(n_cols,)))# creates 10 nodes using the Relu function as an activation function\n",
    "    model.add(Dense(1)) #The output layer\n",
    "    \n",
    "    # compile model\n",
    "    model.compile(optimizer='adam', loss='mean_squared_error') #The optimizer used was adam and mean squared error is used as the loss in back propagation.\n",
    "    return model"
   ]
  },
  {
   "cell_type": "markdown",
   "metadata": {},
   "source": [
    "## Training and Testing\n",
    "We now implement a test/train split to first train the data then test it."
   ]
  },
  {
   "cell_type": "code",
   "execution_count": 11,
   "metadata": {},
   "outputs": [],
   "source": [
    "from sklearn.model_selection import train_test_split\n",
    "X_train, X_test, y_train, y_test = train_test_split(predictors,  target, test_size=0.3, random_state = 4)"
   ]
  },
  {
   "cell_type": "markdown",
   "metadata": {},
   "source": [
    "The model is then called and trained for 50 epochs."
   ]
  },
  {
   "cell_type": "code",
   "execution_count": 12,
   "metadata": {},
   "outputs": [
    {
     "name": "stdout",
     "output_type": "stream",
     "text": [
      "Epoch 1/50\n",
      "23/23 - 0s - loss: 98193.3984 - 455ms/epoch - 20ms/step\n",
      "Epoch 2/50\n",
      "23/23 - 0s - loss: 21487.8105 - 27ms/epoch - 1ms/step\n",
      "Epoch 3/50\n",
      "23/23 - 0s - loss: 13709.7334 - 31ms/epoch - 1ms/step\n",
      "Epoch 4/50\n",
      "23/23 - 0s - loss: 12621.3467 - 33ms/epoch - 1ms/step\n",
      "Epoch 5/50\n",
      "23/23 - 0s - loss: 11576.1553 - 26ms/epoch - 1ms/step\n",
      "Epoch 6/50\n",
      "23/23 - 0s - loss: 10585.0098 - 139ms/epoch - 6ms/step\n",
      "Epoch 7/50\n",
      "23/23 - 0s - loss: 9591.9258 - 27ms/epoch - 1ms/step\n",
      "Epoch 8/50\n",
      "23/23 - 0s - loss: 8575.4316 - 28ms/epoch - 1ms/step\n",
      "Epoch 9/50\n",
      "23/23 - 0s - loss: 7505.1816 - 31ms/epoch - 1ms/step\n",
      "Epoch 10/50\n",
      "23/23 - 0s - loss: 6441.1206 - 33ms/epoch - 1ms/step\n",
      "Epoch 11/50\n",
      "23/23 - 0s - loss: 5374.0317 - 27ms/epoch - 1ms/step\n",
      "Epoch 12/50\n",
      "23/23 - 0s - loss: 4418.8105 - 33ms/epoch - 1ms/step\n",
      "Epoch 13/50\n",
      "23/23 - 0s - loss: 3607.3118 - 33ms/epoch - 1ms/step\n",
      "Epoch 14/50\n",
      "23/23 - 0s - loss: 2902.4922 - 27ms/epoch - 1ms/step\n",
      "Epoch 15/50\n",
      "23/23 - 0s - loss: 2338.7449 - 29ms/epoch - 1ms/step\n",
      "Epoch 16/50\n",
      "23/23 - 0s - loss: 1876.3625 - 29ms/epoch - 1ms/step\n",
      "Epoch 17/50\n",
      "23/23 - 0s - loss: 1495.9514 - 31ms/epoch - 1ms/step\n",
      "Epoch 18/50\n",
      "23/23 - 0s - loss: 1201.5164 - 31ms/epoch - 1ms/step\n",
      "Epoch 19/50\n",
      "23/23 - 0s - loss: 967.8674 - 29ms/epoch - 1ms/step\n",
      "Epoch 20/50\n",
      "23/23 - 0s - loss: 784.1456 - 30ms/epoch - 1ms/step\n",
      "Epoch 21/50\n",
      "23/23 - 0s - loss: 638.8000 - 31ms/epoch - 1ms/step\n",
      "Epoch 22/50\n",
      "23/23 - 0s - loss: 525.9188 - 26ms/epoch - 1ms/step\n",
      "Epoch 23/50\n",
      "23/23 - 0s - loss: 436.7714 - 29ms/epoch - 1ms/step\n",
      "Epoch 24/50\n",
      "23/23 - 0s - loss: 362.2301 - 31ms/epoch - 1ms/step\n",
      "Epoch 25/50\n",
      "23/23 - 0s - loss: 309.4272 - 29ms/epoch - 1ms/step\n",
      "Epoch 26/50\n",
      "23/23 - 0s - loss: 262.7713 - 31ms/epoch - 1ms/step\n",
      "Epoch 27/50\n",
      "23/23 - 0s - loss: 229.3361 - 30ms/epoch - 1ms/step\n",
      "Epoch 28/50\n",
      "23/23 - 0s - loss: 201.3490 - 28ms/epoch - 1ms/step\n",
      "Epoch 29/50\n",
      "23/23 - 0s - loss: 184.9466 - 29ms/epoch - 1ms/step\n",
      "Epoch 30/50\n",
      "23/23 - 0s - loss: 166.6965 - 28ms/epoch - 1ms/step\n",
      "Epoch 31/50\n",
      "23/23 - 0s - loss: 152.4047 - 30ms/epoch - 1ms/step\n",
      "Epoch 32/50\n",
      "23/23 - 0s - loss: 143.5995 - 28ms/epoch - 1ms/step\n",
      "Epoch 33/50\n",
      "23/23 - 0s - loss: 135.7335 - 30ms/epoch - 1ms/step\n",
      "Epoch 34/50\n",
      "23/23 - 0s - loss: 129.1076 - 28ms/epoch - 1ms/step\n",
      "Epoch 35/50\n",
      "23/23 - 0s - loss: 125.0739 - 28ms/epoch - 1ms/step\n",
      "Epoch 36/50\n",
      "23/23 - 0s - loss: 122.6560 - 24ms/epoch - 1ms/step\n",
      "Epoch 37/50\n",
      "23/23 - 0s - loss: 119.1268 - 25ms/epoch - 1ms/step\n",
      "Epoch 38/50\n",
      "23/23 - 0s - loss: 115.3248 - 32ms/epoch - 1ms/step\n",
      "Epoch 39/50\n",
      "23/23 - 0s - loss: 113.1083 - 29ms/epoch - 1ms/step\n",
      "Epoch 40/50\n",
      "23/23 - 0s - loss: 111.3870 - 33ms/epoch - 1ms/step\n",
      "Epoch 41/50\n",
      "23/23 - 0s - loss: 108.8486 - 31ms/epoch - 1ms/step\n",
      "Epoch 42/50\n",
      "23/23 - 0s - loss: 108.6253 - 31ms/epoch - 1ms/step\n",
      "Epoch 43/50\n",
      "23/23 - 0s - loss: 109.0685 - 29ms/epoch - 1ms/step\n",
      "Epoch 44/50\n",
      "23/23 - 0s - loss: 105.9379 - 25ms/epoch - 1ms/step\n",
      "Epoch 45/50\n",
      "23/23 - 0s - loss: 104.1210 - 27ms/epoch - 1ms/step\n",
      "Epoch 46/50\n",
      "23/23 - 0s - loss: 104.3245 - 30ms/epoch - 1ms/step\n",
      "Epoch 47/50\n",
      "23/23 - 0s - loss: 104.4842 - 32ms/epoch - 1ms/step\n",
      "Epoch 48/50\n",
      "23/23 - 0s - loss: 105.9833 - 35ms/epoch - 2ms/step\n",
      "Epoch 49/50\n",
      "23/23 - 0s - loss: 102.8021 - 28ms/epoch - 1ms/step\n",
      "Epoch 50/50\n",
      "23/23 - 0s - loss: 101.4547 - 28ms/epoch - 1ms/step\n"
     ]
    },
    {
     "data": {
      "text/plain": [
       "<keras.callbacks.History at 0x1b30d05a3b0>"
      ]
     },
     "execution_count": 12,
     "metadata": {},
     "output_type": "execute_result"
    }
   ],
   "source": [
    "R_model = regression_model()\n",
    "R_model.fit(X_train, y_train, epochs=50, verbose=2)"
   ]
  },
  {
   "cell_type": "markdown",
   "metadata": {},
   "source": [
    "## Evaluation\n",
    "Finally, we evaluate the model. To do this we use the mean squared error."
   ]
  },
  {
   "cell_type": "code",
   "execution_count": 13,
   "metadata": {},
   "outputs": [
    {
     "name": "stdout",
     "output_type": "stream",
     "text": [
      "10/10 [==============================] - 0s 2ms/step - loss: 118.7526\n",
      "10/10 [==============================] - 0s 2ms/step\n",
      "The mean was found to be: 118.75250829986835\n",
      "The standard deviation was found to be: 0.0\n"
     ]
    }
   ],
   "source": [
    "from sklearn.metrics import mean_squared_error\n",
    "loss_value = R_model.evaluate(X_test, y_test)\n",
    "y_predicted = R_model.predict(X_test)\n",
    "MSE = mean_squared_error(y_test, y_predicted)\n",
    "std_dev = np.std(MSE)\n",
    "mean = np.mean(MSE)\n",
    "\n",
    "print(\"The mean was found to be:\", mean)\n",
    "print(\"The standard deviation was found to be:\", std_dev)"
   ]
  },
  {
   "cell_type": "markdown",
   "metadata": {},
   "source": [
    "We then determine the mean and standard deviation of the mean squared error for 50 iterations."
   ]
  },
  {
   "cell_type": "code",
   "execution_count": 14,
   "metadata": {},
   "outputs": [
    {
     "name": "stdout",
     "output_type": "stream",
     "text": [
      "Mean Squared Error 1 : 113.97494506835938\n",
      "10/10 [==============================] - 0s 1ms/step\n",
      "Mean Squared Error 2 : 113.2106704711914\n",
      "10/10 [==============================] - 0s 1ms/step\n",
      "Mean Squared Error 3 : 105.31800842285156\n",
      "10/10 [==============================] - 0s 1ms/step\n",
      "Mean Squared Error 4 : 79.23973846435547\n",
      "10/10 [==============================] - 0s 1ms/step\n",
      "Mean Squared Error 5 : 75.51184844970703\n",
      "10/10 [==============================] - 0s 1ms/step\n",
      "Mean Squared Error 6 : 68.87210845947266\n",
      "10/10 [==============================] - 0s 906us/step\n",
      "Mean Squared Error 7 : 90.57569885253906\n",
      "10/10 [==============================] - 0s 1ms/step\n",
      "Mean Squared Error 8 : 66.25841522216797\n",
      "10/10 [==============================] - 0s 1ms/step\n",
      "Mean Squared Error 9 : 59.28181076049805\n",
      "10/10 [==============================] - 0s 1ms/step\n",
      "Mean Squared Error 10 : 58.83915328979492\n",
      "10/10 [==============================] - 0s 1ms/step\n",
      "Mean Squared Error 11 : 69.75284576416016\n",
      "10/10 [==============================] - 0s 1ms/step\n",
      "Mean Squared Error 12 : 51.1396484375\n",
      "10/10 [==============================] - 0s 1ms/step\n",
      "Mean Squared Error 13 : 49.08223342895508\n",
      "10/10 [==============================] - 0s 1ms/step\n",
      "Mean Squared Error 14 : 49.82620620727539\n",
      "10/10 [==============================] - 0s 1ms/step\n",
      "Mean Squared Error 15 : 49.707401275634766\n",
      "10/10 [==============================] - 0s 1ms/step\n",
      "Mean Squared Error 16 : 70.15433502197266\n",
      "10/10 [==============================] - 0s 2ms/step\n",
      "Mean Squared Error 17 : 47.57014846801758\n",
      "10/10 [==============================] - 0s 1ms/step\n",
      "Mean Squared Error 18 : 48.3775520324707\n",
      "10/10 [==============================] - 0s 1ms/step\n",
      "Mean Squared Error 19 : 48.72557830810547\n",
      "10/10 [==============================] - 0s 1ms/step\n",
      "Mean Squared Error 20 : 57.379032135009766\n",
      "10/10 [==============================] - 0s 1ms/step\n",
      "Mean Squared Error 21 : 48.49739456176758\n",
      "10/10 [==============================] - 0s 1ms/step\n",
      "Mean Squared Error 22 : 51.41300582885742\n",
      "10/10 [==============================] - 0s 1ms/step\n",
      "Mean Squared Error 23 : 48.20549392700195\n",
      "10/10 [==============================] - 0s 1ms/step\n",
      "Mean Squared Error 24 : 61.12984085083008\n",
      "10/10 [==============================] - 0s 1ms/step\n",
      "Mean Squared Error 25 : 62.259315490722656\n",
      "10/10 [==============================] - 0s 1ms/step\n",
      "Mean Squared Error 26 : 46.84367752075195\n",
      "10/10 [==============================] - 0s 996us/step\n",
      "Mean Squared Error 27 : 48.49488067626953\n",
      "10/10 [==============================] - 0s 2ms/step\n",
      "Mean Squared Error 28 : 48.645957946777344\n",
      "10/10 [==============================] - 0s 1ms/step\n",
      "Mean Squared Error 29 : 46.718894958496094\n",
      "10/10 [==============================] - 0s 1ms/step\n",
      "Mean Squared Error 30 : 54.61729049682617\n",
      "10/10 [==============================] - 0s 1ms/step\n",
      "Mean Squared Error 31 : 49.79780578613281\n",
      "10/10 [==============================] - 0s 1ms/step\n",
      "Mean Squared Error 32 : 49.60100173950195\n",
      "10/10 [==============================] - 0s 1ms/step\n",
      "Mean Squared Error 33 : 78.92839813232422\n",
      "10/10 [==============================] - 0s 778us/step\n",
      "Mean Squared Error 34 : 48.48179626464844\n",
      "10/10 [==============================] - 0s 1ms/step\n",
      "Mean Squared Error 35 : 48.41716766357422\n",
      "10/10 [==============================] - 0s 1ms/step\n",
      "Mean Squared Error 36 : 67.50018310546875\n",
      "10/10 [==============================] - 0s 1ms/step\n",
      "Mean Squared Error 37 : 52.08551025390625\n",
      "10/10 [==============================] - 0s 1ms/step\n",
      "Mean Squared Error 38 : 48.405887603759766\n",
      "10/10 [==============================] - 0s 1ms/step\n",
      "Mean Squared Error 39 : 49.86312484741211\n",
      "10/10 [==============================] - 0s 1ms/step\n",
      "Mean Squared Error 40 : 46.56376266479492\n",
      "10/10 [==============================] - 0s 973us/step\n",
      "Mean Squared Error 41 : 47.323368072509766\n",
      "10/10 [==============================] - 0s 1ms/step\n",
      "Mean Squared Error 42 : 46.53151321411133\n",
      "10/10 [==============================] - 0s 1ms/step\n",
      "Mean Squared Error 43 : 48.292381286621094\n",
      "10/10 [==============================] - 0s 1ms/step\n",
      "Mean Squared Error 44 : 46.40655517578125\n",
      "10/10 [==============================] - 0s 1ms/step\n",
      "Mean Squared Error 45 : 55.814327239990234\n",
      "10/10 [==============================] - 0s 889us/step\n",
      "Mean Squared Error 46 : 50.54085922241211\n",
      "10/10 [==============================] - 0s 886us/step\n",
      "Mean Squared Error 47 : 48.0053825378418\n",
      "10/10 [==============================] - 0s 1ms/step\n",
      "Mean Squared Error 48 : 47.290157318115234\n",
      "10/10 [==============================] - 0s 1ms/step\n",
      "Mean Squared Error 49 : 54.270233154296875\n",
      "10/10 [==============================] - 0s 1ms/step\n",
      "Mean Squared Error 50 : 47.566490173339844\n",
      "10/10 [==============================] - 0s 1ms/step\n",
      "The mean of the mean squared errors were determined to be: 58.42618311791089\n",
      "The standard deviation of the mean squared errors were determined to be 16.73193310466338\n"
     ]
    }
   ],
   "source": [
    "Sum_MSE = 50\n",
    "MSE_List= []\n",
    "for n in range(0, Sum_MSE):\n",
    "    X_train, X_test, y_train, y_test = train_test_split(predictors,  target, test_size=0.3, random_state = 4)\n",
    "    R_model.fit(X_train, y_train, epochs=50, verbose=0)\n",
    "    MSE = R_model.evaluate(X_test, y_test, verbose=0)\n",
    "    print(\"Mean Squared Error\",str(n+1),\":\",MSE)\n",
    "    y_predicted = R_model.predict(X_test)\n",
    "    MSE = mean_squared_error(y_test, y_predicted)\n",
    "    MSE_List.append(MSE)\n",
    "\n",
    "MSE_List = np.array(MSE_List)\n",
    "mean = np.mean(MSE_List)\n",
    "std_dev = np.std(MSE_List)\n",
    "\n",
    "\n",
    "print(\"The mean of the mean squared errors were determined to be:\", mean)\n",
    "print(\"The standard deviation of the mean squared errors were determined to be\", std_dev)\n",
    "    "
   ]
  }
 ],
 "metadata": {
  "kernelspec": {
   "display_name": "Python 3.10.4 64-bit",
   "language": "python",
   "name": "python3"
  },
  "language_info": {
   "codemirror_mode": {
    "name": "ipython",
    "version": 3
   },
   "file_extension": ".py",
   "mimetype": "text/x-python",
   "name": "python",
   "nbconvert_exporter": "python",
   "pygments_lexer": "ipython3",
   "version": "3.10.4"
  },
  "orig_nbformat": 4,
  "vscode": {
   "interpreter": {
    "hash": "aa64e7184daae6dd576015e1a1a66f0c541bcfb9cde5feb52064ff5d249c9e32"
   }
  }
 },
 "nbformat": 4,
 "nbformat_minor": 2
}
